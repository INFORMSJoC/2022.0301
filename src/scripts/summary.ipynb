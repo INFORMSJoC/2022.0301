{
 "cells": [
  {
   "cell_type": "code",
   "execution_count": 0,
   "metadata": {},
   "outputs": [],
   "source": [
    "# ms-python.python added\n",
    "import os\n",
    "try:\n",
    "\tos.chdir(\"/home/daniel/CG_results_20191004/\")\n",
    "\tprint(os.getcwd())\n",
    "except:\n",
    "\tpass\n"
   ]
  },
  {
   "cell_type": "code",
   "execution_count": 0,
   "metadata": {},
   "outputs": [],
   "source": [
    "import numpy as np\n",
    "import pandas as pd\n",
    "import re\n",
    "\n"
   ]
  },
  {
   "cell_type": "code",
   "execution_count": 0,
   "metadata": {},
   "outputs": [],
   "source": [
    "file_name =\"CG_overall_20191004.csv\" \n",
    "data = pd.read_csv(file_name)\n",
    "match = re.search(r'.*\\_(\\d{4})(\\d{2})(\\d{2})\\.csv',file_name)\n",
    "year = match.group(1)\n",
    "month = match.group(2)\n",
    "day = match.group(3)\n",
    "print(type(day))\n",
    "\n"
   ]
  },
  {
   "cell_type": "code",
   "execution_count": 0,
   "metadata": {},
   "outputs": [],
   "source": [
    "data['gap'] = (data['global_upper_bound'] - data['global_lower_bound']\n",
    "               )/(data['global_lower_bound'] + 0.00001)\n",
    "data['opt'] = data['global_lower_bound'] == data['global_upper_bound']\n",
    "data['reduction'] = (data['first_size_graph'] - data['size_after_reduced_cost'])/(data['first_size_graph'] + 0.000001)\n",
    "lst = []\n",
    "import re\n",
    "for l in data['NameInstance']:\n",
    "    test = re.search(r'.*\\_(\\d+)', l).group(1)\n",
    "    lst.append(int(test))\n",
    "\n",
    "se = pd.Series(lst)\n",
    "data['Id'] = se.values\n",
    "\n"
   ]
  },
  {
   "cell_type": "code",
   "execution_count": 0,
   "metadata": {},
   "outputs": [],
   "source": [
    "summary_grouped = data.groupby(['pricing_solver','n','m'])\n",
    "\n"
   ]
  },
  {
   "cell_type": "code",
   "execution_count": 0,
   "metadata": {},
   "outputs": [],
   "source": [
    "aggregation = {\"tot_lb\": {np.max, np.mean},\n",
    "               \"gap\": {np.max, np.mean},\n",
    "               \"first_size_graph\": {np.max, np.mean},\n",
    "               \"opt\": np.sum,\n",
    "               \"reduction\": {np.max,np.mean},\n",
    "              \"tot_cputime\" : {np.max, np.mean}}\n"
   ]
  },
  {
   "cell_type": "code",
   "execution_count": 0,
   "metadata": {},
   "outputs": [],
   "source": [
    "summary_write = summary_grouped.agg(aggregation).pivot_table(index=['n', 'm'], values=[\n",
    "                              'tot_lb', 'gap', 'first_size_graph','reduction','opt'], columns=['pricing_solver'])\n",
    "summary_write.columns.set_levels(['AFFS','AFFC','AFBS','AFBC','AFZFS','AFZFC','AFZBS','AFZBC','TI','ATI'],level=2,inplace=True)\n",
    "summary_write.columns = [\"_\".join(x) for x in summary_write.columns.ravel()]\n",
    "summary_write.to_csv(\"CG_summary_\"+year+month+day+\".csv\")\n",
    "summary_write\n"
   ]
  },
  {
   "cell_type": "code",
   "execution_count": 0,
   "metadata": {},
   "outputs": [],
   "source": [
    "all_instances = data.pivot_table(values=['tot_lb', 'gap', 'first_size_graph','reduction','opt','rel_error','nb_generated_col','global_lower_bound','global_upper_bound','tot_cputime'], index=['n','m','Id'], columns=['pricing_solver'])\n",
    "all_instances.columns.set_levels(['AFFS','AFFC','AFBS','AFBC','AFZFS','AFZFC','AFZBS','AFZBC','TI','ATI'],level=1,inplace=True)\n",
    "all_instances.columns = [\"_\".join(x) for x in all_instances.columns.ravel()]\n",
    "all_instances.to_csv(\"CG_allinstances_\"+year+month+day+\".csv\")\n",
    "\n"
   ]
  },
  {
   "cell_type": "code",
   "execution_count": 0,
   "metadata": {},
   "outputs": [],
   "source": [
    "\n",
    "\n",
    "\n"
   ]
  }
 ],
 "metadata": {
  "file_extension": ".py",
  "kernelspec": {
   "display_name": "Python 3",
   "language": "python",
   "name": "python3"
  },
  "language_info": {
   "codemirror_mode": {
    "name": "ipython",
    "version": 3
   },
   "file_extension": ".py",
   "mimetype": "text/x-python",
   "name": "python",
   "nbconvert_exporter": "python",
   "pygments_lexer": "ipython3",
   "version": "3.7.4"
  },
  "mimetype": "text/x-python",
  "name": "python",
  "npconvert_exporter": "python",
  "pygments_lexer": "ipython3",
  "version": 3
 },
 "nbformat": 4,
 "nbformat_minor": 2
}
